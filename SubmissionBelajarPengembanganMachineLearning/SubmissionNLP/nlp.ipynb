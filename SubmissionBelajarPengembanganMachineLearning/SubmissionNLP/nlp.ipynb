{
 "cells": [
  {
   "cell_type": "code",
   "execution_count": 1,
   "id": "b159df37-b15f-42ac-87e9-90d02c997efa",
   "metadata": {},
   "outputs": [
    {
     "name": "stdout",
     "output_type": "stream",
     "text": [
      "WARNING:tensorflow:From D:\\Program Files\\Python310\\lib\\site-packages\\keras\\src\\losses.py:2976: The name tf.losses.sparse_softmax_cross_entropy is deprecated. Please use tf.compat.v1.losses.sparse_softmax_cross_entropy instead.\n",
      "\n"
     ]
    }
   ],
   "source": [
    "import pandas as pd\n",
    "import numpy as np\n",
    "import matplotlib.pyplot as plt\n",
    "import nltk\n",
    "import re\n",
    "from nltk.corpus import stopwords\n",
    "from nltk.stem import WordNetLemmatizer\n",
    "from nltk.tokenize import word_tokenize\n",
    "from sklearn.model_selection import train_test_split\n",
    "from sklearn.preprocessing import LabelEncoder\n",
    "from keras.preprocessing.text import Tokenizer\n",
    "from keras.preprocessing.sequence import pad_sequences\n",
    "from keras.models import Sequential\n",
    "from keras.layers import Embedding, LSTM, Dense, Dropout\n",
    "from keras.callbacks import ModelCheckpoint, EarlyStopping\n",
    "from keras.optimizers import Adam\n",
    "from keras.regularizers import l2\n",
    "import string\n",
    "import pickle\n",
    "import tensorflow as tf"
   ]
  },
  {
   "cell_type": "code",
   "execution_count": 2,
   "id": "d7cc6ec8-5cfa-4a89-8545-c537937e7723",
   "metadata": {},
   "outputs": [
    {
     "name": "stdout",
     "output_type": "stream",
     "text": [
      "<class 'pandas.core.frame.DataFrame'>\n",
      "RangeIndex: 839555 entries, 0 to 839554\n",
      "Data columns (total 3 columns):\n",
      " #   Column      Non-Null Count   Dtype \n",
      "---  ------      --------------   ----- \n",
      " 0   Unnamed: 0  839555 non-null  int64 \n",
      " 1   text        839555 non-null  object\n",
      " 2   Emotion     839555 non-null  object\n",
      "dtypes: int64(1), object(2)\n",
      "memory usage: 19.2+ MB\n"
     ]
    }
   ],
   "source": [
    "# Baca data\n",
    "data_emosi = pd.read_csv('Data/emotion_sentimen_dataset.csv')\n",
    "data_emosi.info()"
   ]
  },
  {
   "cell_type": "code",
   "execution_count": 3,
   "id": "f75c8704-a9d8-4e36-96db-243573899cf4",
   "metadata": {},
   "outputs": [
    {
     "data": {
      "text/html": [
       "<div>\n",
       "<style scoped>\n",
       "    .dataframe tbody tr th:only-of-type {\n",
       "        vertical-align: middle;\n",
       "    }\n",
       "\n",
       "    .dataframe tbody tr th {\n",
       "        vertical-align: top;\n",
       "    }\n",
       "\n",
       "    .dataframe thead th {\n",
       "        text-align: right;\n",
       "    }\n",
       "</style>\n",
       "<table border=\"1\" class=\"dataframe\">\n",
       "  <thead>\n",
       "    <tr style=\"text-align: right;\">\n",
       "      <th></th>\n",
       "      <th>Unnamed: 0</th>\n",
       "    </tr>\n",
       "  </thead>\n",
       "  <tbody>\n",
       "    <tr>\n",
       "      <th>count</th>\n",
       "      <td>839555.000000</td>\n",
       "    </tr>\n",
       "    <tr>\n",
       "      <th>mean</th>\n",
       "      <td>419777.000000</td>\n",
       "    </tr>\n",
       "    <tr>\n",
       "      <th>std</th>\n",
       "      <td>242358.796962</td>\n",
       "    </tr>\n",
       "    <tr>\n",
       "      <th>min</th>\n",
       "      <td>0.000000</td>\n",
       "    </tr>\n",
       "    <tr>\n",
       "      <th>25%</th>\n",
       "      <td>209888.500000</td>\n",
       "    </tr>\n",
       "    <tr>\n",
       "      <th>50%</th>\n",
       "      <td>419777.000000</td>\n",
       "    </tr>\n",
       "    <tr>\n",
       "      <th>75%</th>\n",
       "      <td>629665.500000</td>\n",
       "    </tr>\n",
       "    <tr>\n",
       "      <th>max</th>\n",
       "      <td>839554.000000</td>\n",
       "    </tr>\n",
       "  </tbody>\n",
       "</table>\n",
       "</div>"
      ],
      "text/plain": [
       "          Unnamed: 0\n",
       "count  839555.000000\n",
       "mean   419777.000000\n",
       "std    242358.796962\n",
       "min         0.000000\n",
       "25%    209888.500000\n",
       "50%    419777.000000\n",
       "75%    629665.500000\n",
       "max    839554.000000"
      ]
     },
     "execution_count": 3,
     "metadata": {},
     "output_type": "execute_result"
    }
   ],
   "source": [
    "data_emosi.describe()"
   ]
  },
  {
   "cell_type": "code",
   "execution_count": 4,
   "id": "c241f3de-2475-4f08-948f-5888a799608c",
   "metadata": {},
   "outputs": [
    {
     "data": {
      "text/plain": [
       "(839555, 3)"
      ]
     },
     "execution_count": 4,
     "metadata": {},
     "output_type": "execute_result"
    }
   ],
   "source": [
    "data_emosi.shape"
   ]
  },
  {
   "cell_type": "code",
   "execution_count": 5,
   "id": "e0196a20-e28a-4a67-af81-135a4dc7d877",
   "metadata": {},
   "outputs": [
    {
     "data": {
      "text/plain": [
       "Index(['Unnamed: 0', 'text', 'Emotion'], dtype='object')"
      ]
     },
     "execution_count": 5,
     "metadata": {},
     "output_type": "execute_result"
    }
   ],
   "source": [
    "data_emosi.columns"
   ]
  },
  {
   "cell_type": "code",
   "execution_count": 6,
   "id": "2b7c27aa-686e-4cae-9d6d-97d7189c98c9",
   "metadata": {},
   "outputs": [
    {
     "data": {
      "text/plain": [
       "Emotion\n",
       "neutral       674538\n",
       "love           39553\n",
       "happiness      27175\n",
       "sadness        17481\n",
       "relief         16729\n",
       "hate           15267\n",
       "anger          12336\n",
       "fun            10075\n",
       "enthusiasm      9304\n",
       "surprise        6954\n",
       "empty           5542\n",
       "worry           4475\n",
       "boredom          126\n",
       "Name: count, dtype: int64"
      ]
     },
     "execution_count": 6,
     "metadata": {},
     "output_type": "execute_result"
    }
   ],
   "source": [
    "data_emosi.Emotion.value_counts()"
   ]
  },
  {
   "cell_type": "code",
   "execution_count": 7,
   "id": "9190b503-eeb1-4f98-a7db-0fc12b47e536",
   "metadata": {},
   "outputs": [
    {
     "name": "stdout",
     "output_type": "stream",
     "text": [
      "<class 'pandas.core.frame.DataFrame'>\n",
      "Index: 106275 entries, 0 to 839531\n",
      "Data columns (total 3 columns):\n",
      " #   Column      Non-Null Count   Dtype \n",
      "---  ------      --------------   ----- \n",
      " 0   Unnamed: 0  106275 non-null  int64 \n",
      " 1   text        106275 non-null  object\n",
      " 2   Emotion     106275 non-null  object\n",
      "dtypes: int64(1), object(2)\n",
      "memory usage: 3.2+ MB\n"
     ]
    }
   ],
   "source": [
    "# Filter data to remove rows with \"boredom\" emotion\n",
    "data_emosi = data_emosi[data_emosi['Emotion'] != 'boredom']\n",
    "max_data_per_emotion = 10000\n",
    "data_emosi_new = data_emosi.groupby('Emotion').head(max_data_per_emotion)\n",
    "\n",
    "# Simpan DataFrame yang telah difilter kembali ke file CSV\n",
    "data_emosi_new.to_csv(\"Data/data_emosi_new.csv\", index=False)\n",
    "data_emosi_new.info()\n",
    "\n",
    "data_emosi_new.describe()\n",
    "data_emosi = data_emosi_new"
   ]
  },
  {
   "cell_type": "code",
   "execution_count": 8,
   "id": "b29173a2-2734-41ae-b6d7-9a3d949979be",
   "metadata": {},
   "outputs": [],
   "source": [
    "# Drop baris dengan nilai yang hilang\n",
    "data_emosi = data_emosi.dropna()"
   ]
  },
  {
   "cell_type": "code",
   "execution_count": 9,
   "id": "36af1d97-6233-495d-81bb-8aa5c5419fd1",
   "metadata": {},
   "outputs": [],
   "source": [
    "# Preprocessing Data\n",
    "# Pisahkan kolom teks dan emosi sebagai fitur dan label\n",
    "X = data_emosi['text']\n",
    "y = data_emosi['Emotion']"
   ]
  },
  {
   "cell_type": "code",
   "execution_count": 10,
   "id": "12b1706d-a2bf-4119-9365-8e7dc330c4a2",
   "metadata": {},
   "outputs": [],
   "source": [
    "# Preprocessing tambahan\n",
    "# Menghapus tanda baca\n",
    "def remove_punctuation(text):\n",
    "    return text.translate(str.maketrans('', '', string.punctuation))"
   ]
  },
  {
   "cell_type": "code",
   "execution_count": 11,
   "id": "7f526b3a-f40b-4c9e-89f9-04b5b4ba4c34",
   "metadata": {},
   "outputs": [],
   "source": [
    "# Lematisasi\n",
    "def lemmatize_text(text):\n",
    "    lemmatizer = WordNetLemmatizer()\n",
    "    return ' '.join([lemmatizer.lemmatize(w) for w in word_tokenize(text)])\n",
    "\n",
    "# Menghapus angka\n",
    "def remove_numbers(text):\n",
    "    return ''.join([i for i in text if not i.isdigit()])"
   ]
  },
  {
   "cell_type": "code",
   "execution_count": 12,
   "id": "79cee7b0-2a26-4098-a8ea-8791dc21e6fe",
   "metadata": {},
   "outputs": [],
   "source": [
    "# Menghapus stopwords\n",
    "stop_words = set(stopwords.words('english'))\n",
    "def remove_stopwords(text):\n",
    "    return ' '.join([word for word in word_tokenize(text) if word.lower() not in stop_words])\n",
    "\n",
    "# Preprocessing teks\n",
    "def preprocess_text(text):\n",
    "    text = remove_punctuation(text)\n",
    "    text = lemmatize_text(text)\n",
    "    text = remove_numbers(text)\n",
    "    text = remove_stopwords(text)\n",
    "    return text\n",
    "\n",
    "X = X.apply(preprocess_text)"
   ]
  },
  {
   "cell_type": "code",
   "execution_count": 13,
   "id": "c2a39298-6c5c-4729-99b8-d7a2b3d0e06f",
   "metadata": {},
   "outputs": [],
   "source": [
    "# Tokenisasi teks setelah preprocessing tambahan\n",
    "tokenizer = Tokenizer()\n",
    "tokenizer.fit_on_texts(X)\n",
    "X_seq = tokenizer.texts_to_sequences(X)\n",
    "X_pad = pad_sequences(X_seq)\n",
    "\n",
    "# Encoding label\n",
    "label_encoder = LabelEncoder()\n",
    "y_encoded = label_encoder.fit_transform(y)"
   ]
  },
  {
   "cell_type": "code",
   "execution_count": 14,
   "id": "eff65a32-6f71-456a-8dfb-69e725536eaa",
   "metadata": {},
   "outputs": [],
   "source": [
    "# Pembagian Data\n",
    "X_train, X_val, y_train, y_val = train_test_split(X_pad, y_encoded, test_size=0.2, random_state=42)"
   ]
  },
  {
   "cell_type": "code",
   "execution_count": 15,
   "id": "41f601ea-aaf7-478b-b1e4-ab09e30689b4",
   "metadata": {},
   "outputs": [
    {
     "name": "stdout",
     "output_type": "stream",
     "text": [
      "WARNING:tensorflow:From D:\\Program Files\\Python310\\lib\\site-packages\\keras\\src\\backend.py:873: The name tf.get_default_graph is deprecated. Please use tf.compat.v1.get_default_graph instead.\n",
      "\n"
     ]
    }
   ],
   "source": [
    "# Model Building\n",
    "num_classes = len(np.unique(y_train))  # Mengambil jumlah kelas dari data pelatihan\n",
    "model = Sequential()\n",
    "model.add(Embedding(input_dim=len(tokenizer.word_index) + 1, output_dim=100, input_length=X_pad.shape[1]))\n",
    "model.add(LSTM(128, dropout=0.2, recurrent_dropout=0.2, kernel_regularizer=l2(0.001)))\n",
    "model.add(Dense(64, activation='relu'))\n",
    "model.add(Dropout(0.5))\n",
    "model.add(Dense(num_classes, activation='softmax'))"
   ]
  },
  {
   "cell_type": "code",
   "execution_count": 16,
   "id": "8ef80a99-7181-4aea-b96b-8a1f29c03291",
   "metadata": {},
   "outputs": [],
   "source": [
    "# Model Compilation\n",
    "optimizer = Adam(learning_rate=0.001)\n",
    "model.compile(loss='sparse_categorical_crossentropy', optimizer=optimizer, metrics=['accuracy'])"
   ]
  },
  {
   "cell_type": "code",
   "execution_count": 17,
   "id": "6c19ccf0-03a4-42c8-830a-b998b0f5fc39",
   "metadata": {},
   "outputs": [],
   "source": [
    "# Callbacks\n",
    "class myCallback(tf.keras.callbacks.Callback):\n",
    "    def on_epoch_end(self, epoch, logs={}):\n",
    "        if logs.get('accuracy') > 0.95 and logs.get('val_accuracy') > 0.95:\n",
    "            #self.model.stop_training = True\n",
    "            print(\"\\nThe accuracy of the training set and the validation set has reached > 95%!\")\n",
    "\n",
    "callbacks = myCallback()"
   ]
  },
  {
   "cell_type": "code",
   "execution_count": 18,
   "id": "09586e2b-38d3-4211-8b81-41f7d7551dda",
   "metadata": {},
   "outputs": [
    {
     "name": "stdout",
     "output_type": "stream",
     "text": [
      "Epoch 1/10\n",
      "WARNING:tensorflow:From D:\\Program Files\\Python310\\lib\\site-packages\\keras\\src\\utils\\tf_utils.py:492: The name tf.ragged.RaggedTensorValue is deprecated. Please use tf.compat.v1.ragged.RaggedTensorValue instead.\n",
      "\n",
      "WARNING:tensorflow:From D:\\Program Files\\Python310\\lib\\site-packages\\keras\\src\\engine\\base_layer_utils.py:384: The name tf.executing_eagerly_outside_functions is deprecated. Please use tf.compat.v1.executing_eagerly_outside_functions instead.\n",
      "\n",
      "1329/1329 - 342s - loss: 0.6644 - accuracy: 0.8236 - val_loss: 0.4229 - val_accuracy: 0.9252 - 342s/epoch - 258ms/step\n",
      "Epoch 2/10\n",
      "\n",
      "The accuracy of the training set and the validation set has reached > 95%!\n",
      "1329/1329 - 332s - loss: 0.1676 - accuracy: 0.9786 - val_loss: 0.1029 - val_accuracy: 0.9897 - 332s/epoch - 250ms/step\n",
      "Epoch 3/10\n",
      "\n",
      "The accuracy of the training set and the validation set has reached > 95%!\n",
      "1329/1329 - 330s - loss: 0.0811 - accuracy: 0.9912 - val_loss: 0.0874 - val_accuracy: 0.9891 - 330s/epoch - 249ms/step\n",
      "Epoch 4/10\n",
      "\n",
      "The accuracy of the training set and the validation set has reached > 95%!\n",
      "1329/1329 - 344s - loss: 0.0647 - accuracy: 0.9932 - val_loss: 0.0627 - val_accuracy: 0.9938 - 344s/epoch - 259ms/step\n",
      "Epoch 5/10\n",
      "\n",
      "The accuracy of the training set and the validation set has reached > 95%!\n",
      "1329/1329 - 349s - loss: 0.0533 - accuracy: 0.9944 - val_loss: 0.0637 - val_accuracy: 0.9936 - 349s/epoch - 263ms/step\n",
      "Epoch 6/10\n",
      "\n",
      "The accuracy of the training set and the validation set has reached > 95%!\n",
      "1329/1329 - 355s - loss: 0.0424 - accuracy: 0.9959 - val_loss: 0.0705 - val_accuracy: 0.9931 - 355s/epoch - 267ms/step\n",
      "Epoch 7/10\n",
      "\n",
      "The accuracy of the training set and the validation set has reached > 95%!\n",
      "1329/1329 - 352s - loss: 0.0600 - accuracy: 0.9945 - val_loss: 0.0799 - val_accuracy: 0.9950 - 352s/epoch - 265ms/step\n",
      "Epoch 8/10\n",
      "\n",
      "The accuracy of the training set and the validation set has reached > 95%!\n",
      "1329/1329 - 349s - loss: 0.0418 - accuracy: 0.9973 - val_loss: 0.0637 - val_accuracy: 0.9957 - 349s/epoch - 263ms/step\n",
      "Epoch 9/10\n",
      "\n",
      "The accuracy of the training set and the validation set has reached > 95%!\n",
      "1329/1329 - 348s - loss: 0.0504 - accuracy: 0.9967 - val_loss: 0.0672 - val_accuracy: 0.9959 - 348s/epoch - 262ms/step\n",
      "Epoch 10/10\n",
      "\n",
      "The accuracy of the training set and the validation set has reached > 95%!\n",
      "1329/1329 - 358s - loss: 0.0735 - accuracy: 0.9921 - val_loss: 0.0697 - val_accuracy: 0.9961 - 358s/epoch - 269ms/step\n"
     ]
    }
   ],
   "source": [
    "# Training Model\n",
    "history = model.fit(X_train, y_train, batch_size=64, epochs=10, \n",
    "                    validation_data=(X_val, y_val), verbose=2, callbacks=[callbacks])"
   ]
  },
  {
   "cell_type": "code",
   "execution_count": 19,
   "id": "3835b16e-af19-44df-8942-0d01f5e1a814",
   "metadata": {},
   "outputs": [
    {
     "name": "stderr",
     "output_type": "stream",
     "text": [
      "D:\\Program Files\\Python310\\lib\\site-packages\\keras\\src\\engine\\training.py:3103: UserWarning: You are saving your model as an HDF5 file via `model.save()`. This file format is considered legacy. We recommend using instead the native Keras format, e.g. `model.save('my_model.keras')`.\n",
      "  saving_api.save_model(\n"
     ]
    },
    {
     "name": "stdout",
     "output_type": "stream",
     "text": [
      "Model, tokenizer, dan label encoder telah disimpan di path /Model.\n"
     ]
    }
   ],
   "source": [
    "# Export label encoder\n",
    "with open(\"Model/label_encoder.pkl\", \"wb\") as f:\n",
    "    pickle.dump(label_encoder, f)\n",
    "\n",
    "# Export the trained model\n",
    "model.save(\"Model/emotion_det.h5\")\n",
    "\n",
    "# Save the tokenizer\n",
    "with open(\"Model/tokenizer.pkl\", \"wb\") as f:\n",
    "    pickle.dump(tokenizer, f)\n",
    "print(\"Model, tokenizer, dan label encoder telah disimpan di path /Model.\")"
   ]
  },
  {
   "cell_type": "code",
   "execution_count": 20,
   "id": "bc3541c8-a38d-486b-8b2b-72396e273e90",
   "metadata": {},
   "outputs": [
    {
     "name": "stdout",
     "output_type": "stream",
     "text": [
      "Training Accuracy: 0.9997\n",
      "Validation Accuracy: 0.9961\n"
     ]
    }
   ],
   "source": [
    "# Evaluasi Model\n",
    "_, train_acc = model.evaluate(X_train, y_train, verbose=0)\n",
    "_, val_acc = model.evaluate(X_val, y_val, verbose=0)\n",
    "\n",
    "print(\"Training Accuracy: {:.4f}\".format(train_acc))\n",
    "print(\"Validation Accuracy: {:.4f}\".format(val_acc))"
   ]
  },
  {
   "cell_type": "code",
   "execution_count": 21,
   "id": "347e30a4-00f6-49b9-ad47-5116d9c73ea1",
   "metadata": {},
   "outputs": [
    {
     "data": {
      "image/png": "[encoded data removed]",
      "text/plain": [
       "<Figure size 640x480 with 1 Axes>"
      ]
     },
     "metadata": {},
     "output_type": "display_data"
    },
    {
     "data": {
      "image/png": "[encoded data removed]",
      "text/plain": [
       "<Figure size 640x480 with 1 Axes>"
      ]
     },
     "metadata": {},
     "output_type": "display_data"
    }
   ],
   "source": [
    "# Plot loss dan akurasi\n",
    "plt.plot(history.history['loss'], label='Training Loss')\n",
    "plt.plot(history.history['val_loss'], label='Validation Loss')\n",
    "plt.xlabel('Epoch')\n",
    "plt.ylabel('Loss')\n",
    "plt.legend()\n",
    "plt.show()\n",
    "\n",
    "plt.plot(history.history['accuracy'], label='Training Accuracy')\n",
    "plt.plot(history.history['val_accuracy'], label='Validation Accuracy')\n",
    "plt.xlabel('Epoch')\n",
    "plt.ylabel('Accuracy')\n",
    "plt.legend()\n",
    "plt.show()"
   ]
  },
  {
   "cell_type": "code",
   "execution_count": 24,
   "id": "20eab27a-3e51-417d-a454-44a982e79f56",
   "metadata": {},
   "outputs": [
    {
     "name": "stdout",
     "output_type": "stream",
     "text": [
      "1/1 [==============================] - 0s 91ms/step\n",
      "1/1 [==============================] - 0s 47ms/step\n",
      "1/1 [==============================] - 0s 44ms/step\n",
      "1/1 [==============================] - 0s 50ms/step\n",
      "Simple Test 4: Expected emotion 'anger' but got 'neutral'\n",
      "1/1 [==============================] - 0s 50ms/step\n",
      "1/1 [==============================] - 0s 50ms/step\n",
      "Complex Test 1: Expected emotion 'worry' but got 'neutral'\n",
      "1/1 [==============================] - 0s 53ms/step\n",
      "1/1 [==============================] - 0s 48ms/step\n",
      "Complex Test 3: Expected emotion 'tired' but got 'neutral'\n",
      "1/1 [==============================] - 0s 53ms/step\n",
      "1/1 [==============================] - 0s 45ms/step\n",
      "Simple Test Accuracy: 80.00%\n",
      "Complex Test Accuracy: 60.00%\n"
     ]
    }
   ],
   "source": [
    "# Fungsi untuk melakukan prediksi pada kalimat uji\n",
    "def predict_emotion(test_sentence):\n",
    "    test_sentence = preprocess_text(test_sentence)\n",
    "    test_sequence = tokenizer.texts_to_sequences([test_sentence])\n",
    "    test_sequence_pad = pad_sequences(test_sequence, maxlen=X_pad.shape[1])\n",
    "    predicted_class = np.argmax(model.predict(test_sequence_pad), axis=-1)\n",
    "    predicted_emotion = label_encoder.inverse_transform(predicted_class)[0]\n",
    "    return predicted_emotion\n",
    "\n",
    "# Prepare simple test sentences and their expected emotions\n",
    "simple_test_sentences = [\n",
    "    \"I feel happy.\",\n",
    "    \"I felt joyful.\",\n",
    "    \"It makes me content.\",\n",
    "    \"She is anger.\",\n",
    "    \"I had so much fun.\"\n",
    "]\n",
    "simple_expected_emotions = ['happiness', 'fun', 'happiness', 'anger', 'fun']\n",
    "\n",
    "# Prepare complex test sentences and their expected emotions\n",
    "complex_test_sentences = [\n",
    "    \"I'm feeling a bit worried.\",\n",
    "    \"I'm feeling very enthusiastic.\",\n",
    "    \"I'm feeling extremely tired.\",\n",
    "    \"My sister surprised me yesterday.\",\n",
    "    \"I love you so much.\"\n",
    "]\n",
    "complex_expected_emotions = ['worry', 'enthusiasm', 'tired', 'surprise', 'love']\n",
    "\n",
    "# Check predictions for simple test sentences\n",
    "correct_predictions_simple = 0\n",
    "for i, sentence in enumerate(simple_test_sentences):\n",
    "    predicted_emotion = predict_emotion(sentence)\n",
    "    if predicted_emotion == simple_expected_emotions[i]:\n",
    "        correct_predictions_simple += 1\n",
    "    else:\n",
    "        print(f\"Simple Test {i+1}: Expected emotion '{simple_expected_emotions[i]}' but got '{predicted_emotion}'\")\n",
    "\n",
    "# Check predictions for complex test sentences\n",
    "correct_predictions_complex = 0\n",
    "for i, sentence in enumerate(complex_test_sentences):\n",
    "    predicted_emotion = predict_emotion(sentence)\n",
    "    if predicted_emotion == complex_expected_emotions[i]:\n",
    "        correct_predictions_complex += 1\n",
    "    else:\n",
    "        print(f\"Complex Test {i+1}: Expected emotion '{complex_expected_emotions[i]}' but got '{predicted_emotion}'\")\n",
    "\n",
    "# Calculate accuracy for simple and complex test sentences\n",
    "accuracy_simple = correct_predictions_simple / len(simple_test_sentences)\n",
    "accuracy_complex = correct_predictions_complex / len(complex_test_sentences)\n",
    "\n",
    "# Print result for simple test sentences\n",
    "if accuracy_simple == 1.0:\n",
    "    print(\"All simple tests passed\")\n",
    "else:\n",
    "    print(f\"Simple Test Accuracy: {accuracy_simple * 100:.2f}%\")\n",
    "\n",
    "# Print result for complex test sentences\n",
    "if accuracy_complex == 1.0:\n",
    "    print(\"All complex tests passed\")\n",
    "else:\n",
    "    print(f\"Complex Test Accuracy: {accuracy_complex * 100:.2f}%\")\n"
   ]
  },
  {
   "cell_type": "code",
   "execution_count": null,
   "id": "05a0bfba-332e-40d8-bae1-8c5305a5d5e3",
   "metadata": {},
   "outputs": [],
   "source": []
  }
 ],
 "metadata": {
  "kernelspec": {
   "display_name": "Python 3 (ipykernel)",
   "language": "python",
   "name": "python3"
  },
  "language_info": {
   "codemirror_mode": {
    "name": "ipython",
    "version": 3
   },
   "file_extension": ".py",
   "mimetype": "text/x-python",
   "name": "python",
   "nbconvert_exporter": "python",
   "pygments_lexer": "ipython3",
   "version": "3.10.0"
  }
 },
 "nbformat": 4,
 "nbformat_minor": 5
}
